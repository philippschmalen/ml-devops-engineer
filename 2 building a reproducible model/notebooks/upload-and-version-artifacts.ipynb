{
 "cells": [
  {
   "cell_type": "markdown",
   "source": [
    "# Import Weights & Biases"
   ],
   "metadata": {}
  },
  {
   "cell_type": "code",
   "execution_count": 1,
   "source": [
    "import wandb"
   ],
   "outputs": [],
   "metadata": {}
  },
  {
   "cell_type": "markdown",
   "source": [
    "# Create an artifact\n",
    "(pretend it is the output of a component)"
   ],
   "metadata": {}
  },
  {
   "cell_type": "code",
   "execution_count": 2,
   "source": [
    "with open(\"my_artifact.txt\", \"w+\") as fp:\r\n",
    "    fp.write(\"This is an example of an artifact\")"
   ],
   "outputs": [],
   "metadata": {}
  },
  {
   "cell_type": "code",
   "execution_count": 5,
   "source": [
    "!tree /f"
   ],
   "outputs": [
    {
     "output_type": "stream",
     "name": "stdout",
     "text": [
      "Folder PATH listing\n",
      "Volume serial number is AE47-D201\n",
      "C:.\n",
      "    my_artifact.txt\n",
      "    upload-and-version-artifacts.ipynb\n",
      "    \n",
      "No subfolders exist \n",
      "\n"
     ]
    }
   ],
   "metadata": {}
  },
  {
   "cell_type": "markdown",
   "source": [
    "# Upload to W&B"
   ],
   "metadata": {}
  },
  {
   "cell_type": "code",
   "execution_count": 6,
   "source": [
    "run = wandb.init(project=\"demo_artifact_1\", group=\"experiment_1\")"
   ],
   "outputs": [
    {
     "output_type": "stream",
     "name": "stderr",
     "text": [
      "Failed to detect the name of this notebook, you can set it manually with the WANDB_NOTEBOOK_NAME environment variable to enable code saving.\n",
      "\u001b[34m\u001b[1mwandb\u001b[0m: Currently logged in as: \u001b[33mphilippschmalen\u001b[0m (use `wandb login --relogin` to force relogin)\n"
     ]
    },
    {
     "output_type": "display_data",
     "data": {
      "text/plain": [
       "<IPython.core.display.HTML object>"
      ],
      "text/html": [
       "\n",
       "                Tracking run with wandb version 0.11.0<br/>\n",
       "                Syncing run <strong style=\"color:#cdcd00\">denim-sponge-1</strong> to <a href=\"https://wandb.ai\" target=\"_blank\">Weights & Biases</a> <a href=\"https://docs.wandb.com/integrations/jupyter.html\" target=\"_blank\">(Documentation)</a>.<br/>\n",
       "                Project page: <a href=\"https://wandb.ai/philippschmalen/demo_artifact_1\" target=\"_blank\">https://wandb.ai/philippschmalen/demo_artifact_1</a><br/>\n",
       "                Run page: <a href=\"https://wandb.ai/philippschmalen/demo_artifact_1/runs/1jcy3acy\" target=\"_blank\">https://wandb.ai/philippschmalen/demo_artifact_1/runs/1jcy3acy</a><br/>\n",
       "                Run data is saved locally in <code>c:\\Users\\philipp.schmalen\\OneDrive\\OneDrive - adviqo GmbH\\Dokumente\\Udacity ML devops engineer\\2 building a reproducible model\\notebooks\\wandb\\run-20210728_194522-1jcy3acy</code><br/><br/>\n",
       "            "
      ]
     },
     "metadata": {}
    }
   ],
   "metadata": {}
  },
  {
   "cell_type": "code",
   "execution_count": 7,
   "source": [
    "artifact = wandb.Artifact(\r\n",
    "    name=\"my_artifact.txt\", \r\n",
    "    type=\"data\", \r\n",
    "    description=\"This is an example of an artifact\",\r\n",
    "    metadata={\r\n",
    "        \"key_1\": \"value_1\"\r\n",
    "    }\r\n",
    ")"
   ],
   "outputs": [],
   "metadata": {}
  },
  {
   "cell_type": "code",
   "execution_count": 8,
   "source": [
    "artifact.add_file(\"my_artifact.txt\")"
   ],
   "outputs": [
    {
     "output_type": "execute_result",
     "data": {
      "text/plain": [
       "<ManifestEntry digest: bStOq42zZ7Ka3e5ArNjTIg==>"
      ]
     },
     "metadata": {},
     "execution_count": 8
    }
   ],
   "metadata": {}
  },
  {
   "cell_type": "code",
   "execution_count": 9,
   "source": [
    "run.log_artifact(artifact)"
   ],
   "outputs": [
    {
     "output_type": "execute_result",
     "data": {
      "text/plain": [
       "<wandb.sdk.wandb_artifacts.Artifact at 0x7fef3bd2a610>"
      ]
     },
     "metadata": {},
     "execution_count": 9
    }
   ],
   "metadata": {}
  },
  {
   "cell_type": "code",
   "execution_count": 10,
   "source": [
    "run.finish()"
   ],
   "outputs": [
    {
     "output_type": "display_data",
     "data": {
      "text/plain": [
       "<IPython.core.display.HTML object>"
      ],
      "text/html": [
       "<br/>Waiting for W&B process to finish, PID 3627<br/>Program ended successfully."
      ]
     },
     "metadata": {}
    },
    {
     "output_type": "display_data",
     "data": {
      "text/plain": [
       "VBox(children=(Label(value=' 0.00MB of 0.00MB uploaded (0.00MB deduped)\\r'), FloatProgress(value=1.0, max=1.0)…"
      ],
      "application/vnd.jupyter.widget-view+json": {
       "model_id": "",
       "version_major": 2,
       "version_minor": 0
      }
     },
     "metadata": {}
    },
    {
     "output_type": "display_data",
     "data": {
      "text/plain": [
       "<IPython.core.display.HTML object>"
      ],
      "text/html": [
       "Find user logs for this run at: <code>/Users/instructor/PycharmProjects/nd0821-c2-build-model-workflow/lesson-1-machine-learning-pipelines/demo/wandb/run-20210504_105915-29j6fnw6/logs/debug.log</code>"
      ]
     },
     "metadata": {}
    },
    {
     "output_type": "display_data",
     "data": {
      "text/plain": [
       "<IPython.core.display.HTML object>"
      ],
      "text/html": [
       "Find internal logs for this run at: <code>/Users/instructor/PycharmProjects/nd0821-c2-build-model-workflow/lesson-1-machine-learning-pipelines/demo/wandb/run-20210504_105915-29j6fnw6/logs/debug-internal.log</code>"
      ]
     },
     "metadata": {}
    },
    {
     "output_type": "display_data",
     "data": {
      "text/plain": [
       "<IPython.core.display.HTML object>"
      ],
      "text/html": [
       "Synced 5 W&B file(s), 0 media file(s), 1 artifact file(s) and 0 other file(s)"
      ]
     },
     "metadata": {}
    },
    {
     "output_type": "display_data",
     "data": {
      "text/plain": [
       "<IPython.core.display.HTML object>"
      ],
      "text/html": [
       "\n",
       "                    <br/>Synced <strong style=\"color:#cdcd00\">dry-terrain-1</strong>: <a href=\"https://wandb.ai/giacomovianello/demo_artifact_1/runs/29j6fnw6\" target=\"_blank\">https://wandb.ai/giacomovianello/demo_artifact_1/runs/29j6fnw6</a><br/>\n",
       "                "
      ]
     },
     "metadata": {}
    }
   ],
   "metadata": {}
  },
  {
   "cell_type": "markdown",
   "source": [
    "# Generate a new version by changing the artifact"
   ],
   "metadata": {}
  },
  {
   "cell_type": "code",
   "execution_count": 11,
   "source": [
    "with open(\"my_artifact.txt\", \"w+\") as fp:\n",
    "    fp.write(\"This is an example of an artifact changed\")\n",
    "\n",
    "run = wandb.init(project=\"demo_artifact_1\", group=\"experiment_1\")\n",
    "\n",
    "artifact = wandb.Artifact(\n",
    "    name=\"my_artifact.txt\", \n",
    "    type=\"data\", \n",
    "    description=\"This is an example of an artifact\",\n",
    "    metadata={\n",
    "        \"key_1\": \"value_1\"\n",
    "    }\n",
    ")\n",
    "artifact.add_file(\"my_artifact.txt\")\n",
    "run.log_artifact(artifact)\n"
   ],
   "outputs": [
    {
     "output_type": "stream",
     "name": "stderr",
     "text": [
      "\u001b[34m\u001b[1mwandb\u001b[0m: wandb version 0.10.29 is available!  To upgrade, please run:\n",
      "\u001b[34m\u001b[1mwandb\u001b[0m:  $ pip install wandb --upgrade\n"
     ]
    },
    {
     "output_type": "display_data",
     "data": {
      "text/plain": [
       "<IPython.core.display.HTML object>"
      ],
      "text/html": [
       "\n",
       "                Tracking run with wandb version 0.10.28<br/>\n",
       "                Syncing run <strong style=\"color:#cdcd00\">wild-pyramid-2</strong> to <a href=\"https://wandb.ai\" target=\"_blank\">Weights & Biases</a> <a href=\"https://docs.wandb.com/integrations/jupyter.html\" target=\"_blank\">(Documentation)</a>.<br/>\n",
       "                Project page: <a href=\"https://wandb.ai/giacomovianello/demo_artifact_1\" target=\"_blank\">https://wandb.ai/giacomovianello/demo_artifact_1</a><br/>\n",
       "                Run page: <a href=\"https://wandb.ai/giacomovianello/demo_artifact_1/runs/39nsgnic\" target=\"_blank\">https://wandb.ai/giacomovianello/demo_artifact_1/runs/39nsgnic</a><br/>\n",
       "                Run data is saved locally in <code>/Users/instructor/PycharmProjects/nd0821-c2-build-model-workflow/lesson-1-machine-learning-pipelines/demo/wandb/run-20210504_110539-39nsgnic</code><br/><br/>\n",
       "            "
      ]
     },
     "metadata": {}
    },
    {
     "output_type": "execute_result",
     "data": {
      "text/plain": [
       "<wandb.sdk.wandb_artifacts.Artifact at 0x7fef3aeaf490>"
      ]
     },
     "metadata": {},
     "execution_count": 11
    }
   ],
   "metadata": {}
  },
  {
   "cell_type": "code",
   "execution_count": 12,
   "source": [
    "run.finish()"
   ],
   "outputs": [
    {
     "output_type": "display_data",
     "data": {
      "text/plain": [
       "<IPython.core.display.HTML object>"
      ],
      "text/html": [
       "<br/>Waiting for W&B process to finish, PID 3717<br/>Program ended successfully."
      ]
     },
     "metadata": {}
    },
    {
     "output_type": "display_data",
     "data": {
      "text/plain": [
       "VBox(children=(Label(value=' 0.00MB of 0.00MB uploaded (0.00MB deduped)\\r'), FloatProgress(value=1.0, max=1.0)…"
      ],
      "application/vnd.jupyter.widget-view+json": {
       "model_id": "",
       "version_major": 2,
       "version_minor": 0
      }
     },
     "metadata": {}
    },
    {
     "output_type": "display_data",
     "data": {
      "text/plain": [
       "<IPython.core.display.HTML object>"
      ],
      "text/html": [
       "Find user logs for this run at: <code>/Users/instructor/PycharmProjects/nd0821-c2-build-model-workflow/lesson-1-machine-learning-pipelines/demo/wandb/run-20210504_110539-39nsgnic/logs/debug.log</code>"
      ]
     },
     "metadata": {}
    },
    {
     "output_type": "display_data",
     "data": {
      "text/plain": [
       "<IPython.core.display.HTML object>"
      ],
      "text/html": [
       "Find internal logs for this run at: <code>/Users/instructor/PycharmProjects/nd0821-c2-build-model-workflow/lesson-1-machine-learning-pipelines/demo/wandb/run-20210504_110539-39nsgnic/logs/debug-internal.log</code>"
      ]
     },
     "metadata": {}
    },
    {
     "output_type": "display_data",
     "data": {
      "text/plain": [
       "<IPython.core.display.HTML object>"
      ],
      "text/html": [
       "Synced 5 W&B file(s), 0 media file(s), 1 artifact file(s) and 0 other file(s)"
      ]
     },
     "metadata": {}
    },
    {
     "output_type": "display_data",
     "data": {
      "text/plain": [
       "<IPython.core.display.HTML object>"
      ],
      "text/html": [
       "\n",
       "                    <br/>Synced <strong style=\"color:#cdcd00\">wild-pyramid-2</strong>: <a href=\"https://wandb.ai/giacomovianello/demo_artifact_1/runs/39nsgnic\" target=\"_blank\">https://wandb.ai/giacomovianello/demo_artifact_1/runs/39nsgnic</a><br/>\n",
       "                "
      ]
     },
     "metadata": {}
    }
   ],
   "metadata": {}
  },
  {
   "cell_type": "markdown",
   "source": [
    "# Re-upload the same artifact\n",
    "(the version will not change)"
   ],
   "metadata": {}
  },
  {
   "cell_type": "code",
   "execution_count": 13,
   "source": [
    "with open(\"my_artifact.txt\", \"w+\") as fp:\n",
    "    fp.write(\"This is an example of an artifact changed\")\n",
    "\n",
    "run = wandb.init(project=\"demo_artifact_1\", group=\"experiment_1\")\n",
    "\n",
    "artifact = wandb.Artifact(\n",
    "    name=\"my_artifact.txt\", \n",
    "    type=\"data\", \n",
    "    description=\"This is an example of an artifact\",\n",
    "    metadata={\n",
    "        \"key_1\": \"value_1\"\n",
    "    }\n",
    ")\n",
    "artifact.add_file(\"my_artifact.txt\")\n",
    "run.log_artifact(artifact)\n",
    "run.finish()"
   ],
   "outputs": [
    {
     "output_type": "stream",
     "name": "stderr",
     "text": [
      "\u001b[34m\u001b[1mwandb\u001b[0m: wandb version 0.10.29 is available!  To upgrade, please run:\n",
      "\u001b[34m\u001b[1mwandb\u001b[0m:  $ pip install wandb --upgrade\n"
     ]
    },
    {
     "output_type": "display_data",
     "data": {
      "text/plain": [
       "<IPython.core.display.HTML object>"
      ],
      "text/html": [
       "\n",
       "                Tracking run with wandb version 0.10.28<br/>\n",
       "                Syncing run <strong style=\"color:#cdcd00\">golden-dawn-3</strong> to <a href=\"https://wandb.ai\" target=\"_blank\">Weights & Biases</a> <a href=\"https://docs.wandb.com/integrations/jupyter.html\" target=\"_blank\">(Documentation)</a>.<br/>\n",
       "                Project page: <a href=\"https://wandb.ai/giacomovianello/demo_artifact_1\" target=\"_blank\">https://wandb.ai/giacomovianello/demo_artifact_1</a><br/>\n",
       "                Run page: <a href=\"https://wandb.ai/giacomovianello/demo_artifact_1/runs/2vinqwo1\" target=\"_blank\">https://wandb.ai/giacomovianello/demo_artifact_1/runs/2vinqwo1</a><br/>\n",
       "                Run data is saved locally in <code>/Users/instructor/PycharmProjects/nd0821-c2-build-model-workflow/lesson-1-machine-learning-pipelines/demo/wandb/run-20210504_110639-2vinqwo1</code><br/><br/>\n",
       "            "
      ]
     },
     "metadata": {}
    },
    {
     "output_type": "display_data",
     "data": {
      "text/plain": [
       "<IPython.core.display.HTML object>"
      ],
      "text/html": [
       "<br/>Waiting for W&B process to finish, PID 3732<br/>Program ended successfully."
      ]
     },
     "metadata": {}
    },
    {
     "output_type": "display_data",
     "data": {
      "text/plain": [
       "VBox(children=(Label(value=' 0.00MB of 0.00MB uploaded (0.00MB deduped)\\r'), FloatProgress(value=1.0, max=1.0)…"
      ],
      "application/vnd.jupyter.widget-view+json": {
       "model_id": "",
       "version_major": 2,
       "version_minor": 0
      }
     },
     "metadata": {}
    },
    {
     "output_type": "display_data",
     "data": {
      "text/plain": [
       "<IPython.core.display.HTML object>"
      ],
      "text/html": [
       "Find user logs for this run at: <code>/Users/instructor/PycharmProjects/nd0821-c2-build-model-workflow/lesson-1-machine-learning-pipelines/demo/wandb/run-20210504_110639-2vinqwo1/logs/debug.log</code>"
      ]
     },
     "metadata": {}
    },
    {
     "output_type": "display_data",
     "data": {
      "text/plain": [
       "<IPython.core.display.HTML object>"
      ],
      "text/html": [
       "Find internal logs for this run at: <code>/Users/instructor/PycharmProjects/nd0821-c2-build-model-workflow/lesson-1-machine-learning-pipelines/demo/wandb/run-20210504_110639-2vinqwo1/logs/debug-internal.log</code>"
      ]
     },
     "metadata": {}
    },
    {
     "output_type": "display_data",
     "data": {
      "text/plain": [
       "<IPython.core.display.HTML object>"
      ],
      "text/html": [
       "Synced 5 W&B file(s), 0 media file(s), 0 artifact file(s) and 0 other file(s)"
      ]
     },
     "metadata": {}
    },
    {
     "output_type": "display_data",
     "data": {
      "text/plain": [
       "<IPython.core.display.HTML object>"
      ],
      "text/html": [
       "\n",
       "                    <br/>Synced <strong style=\"color:#cdcd00\">golden-dawn-3</strong>: <a href=\"https://wandb.ai/giacomovianello/demo_artifact_1/runs/2vinqwo1\" target=\"_blank\">https://wandb.ai/giacomovianello/demo_artifact_1/runs/2vinqwo1</a><br/>\n",
       "                "
      ]
     },
     "metadata": {}
    }
   ],
   "metadata": {}
  },
  {
   "cell_type": "markdown",
   "source": [
    "# Using runs with context managers\n",
    "(show that the version does not change even across multiple runs if the artifact does not change)"
   ],
   "metadata": {}
  },
  {
   "cell_type": "code",
   "execution_count": 14,
   "source": [
    "with wandb.init(project=\"multiple_runs\") as run:\n",
    "    \n",
    "    artifact = wandb.Artifact(\n",
    "    name=\"my_artifact.txt\", \n",
    "    type=\"data\", \n",
    "    description=\"This is an example of an artifact\",\n",
    "    metadata={\n",
    "        \"key_1\": \"value_1\"\n",
    "    }\n",
    "    )\n",
    "    artifact.add_file(\"my_artifact.txt\")\n",
    "\n",
    "with wandb.init(project=\"multiple_runs\") as run:\n",
    "    \n",
    "    artifact = wandb.Artifact(\n",
    "    name=\"my_artifact.txt\", \n",
    "    type=\"data\", \n",
    "    description=\"This is an example of an artifact\",\n",
    "    metadata={\n",
    "        \"key_1\": \"value_1\"\n",
    "    }\n",
    "    )\n",
    "    artifact.add_file(\"my_artifact.txt\")"
   ],
   "outputs": [
    {
     "output_type": "stream",
     "name": "stderr",
     "text": [
      "\u001b[34m\u001b[1mwandb\u001b[0m: wandb version 0.10.29 is available!  To upgrade, please run:\n",
      "\u001b[34m\u001b[1mwandb\u001b[0m:  $ pip install wandb --upgrade\n"
     ]
    },
    {
     "output_type": "display_data",
     "data": {
      "text/plain": [
       "<IPython.core.display.HTML object>"
      ],
      "text/html": [
       "\n",
       "                Tracking run with wandb version 0.10.28<br/>\n",
       "                Syncing run <strong style=\"color:#cdcd00\">atomic-leaf-1</strong> to <a href=\"https://wandb.ai\" target=\"_blank\">Weights & Biases</a> <a href=\"https://docs.wandb.com/integrations/jupyter.html\" target=\"_blank\">(Documentation)</a>.<br/>\n",
       "                Project page: <a href=\"https://wandb.ai/giacomovianello/multiple_runs\" target=\"_blank\">https://wandb.ai/giacomovianello/multiple_runs</a><br/>\n",
       "                Run page: <a href=\"https://wandb.ai/giacomovianello/multiple_runs/runs/1vwwtla1\" target=\"_blank\">https://wandb.ai/giacomovianello/multiple_runs/runs/1vwwtla1</a><br/>\n",
       "                Run data is saved locally in <code>/Users/instructor/PycharmProjects/nd0821-c2-build-model-workflow/lesson-1-machine-learning-pipelines/demo/wandb/run-20210504_110843-1vwwtla1</code><br/><br/>\n",
       "            "
      ]
     },
     "metadata": {}
    },
    {
     "output_type": "display_data",
     "data": {
      "text/plain": [
       "<IPython.core.display.HTML object>"
      ],
      "text/html": [
       "<br/>Waiting for W&B process to finish, PID 3762<br/>Program ended successfully."
      ]
     },
     "metadata": {}
    },
    {
     "output_type": "display_data",
     "data": {
      "text/plain": [
       "VBox(children=(Label(value=' 0.00MB of 0.00MB uploaded (0.00MB deduped)\\r'), FloatProgress(value=1.0, max=1.0)…"
      ],
      "application/vnd.jupyter.widget-view+json": {
       "model_id": "",
       "version_major": 2,
       "version_minor": 0
      }
     },
     "metadata": {}
    },
    {
     "output_type": "display_data",
     "data": {
      "text/plain": [
       "<IPython.core.display.HTML object>"
      ],
      "text/html": [
       "Find user logs for this run at: <code>/Users/instructor/PycharmProjects/nd0821-c2-build-model-workflow/lesson-1-machine-learning-pipelines/demo/wandb/run-20210504_110843-1vwwtla1/logs/debug.log</code>"
      ]
     },
     "metadata": {}
    },
    {
     "output_type": "display_data",
     "data": {
      "text/plain": [
       "<IPython.core.display.HTML object>"
      ],
      "text/html": [
       "Find internal logs for this run at: <code>/Users/instructor/PycharmProjects/nd0821-c2-build-model-workflow/lesson-1-machine-learning-pipelines/demo/wandb/run-20210504_110843-1vwwtla1/logs/debug-internal.log</code>"
      ]
     },
     "metadata": {}
    },
    {
     "output_type": "display_data",
     "data": {
      "text/plain": [
       "<IPython.core.display.HTML object>"
      ],
      "text/html": [
       "Synced 5 W&B file(s), 0 media file(s), 0 artifact file(s) and 0 other file(s)"
      ]
     },
     "metadata": {}
    },
    {
     "output_type": "display_data",
     "data": {
      "text/plain": [
       "<IPython.core.display.HTML object>"
      ],
      "text/html": [
       "\n",
       "                    <br/>Synced <strong style=\"color:#cdcd00\">atomic-leaf-1</strong>: <a href=\"https://wandb.ai/giacomovianello/multiple_runs/runs/1vwwtla1\" target=\"_blank\">https://wandb.ai/giacomovianello/multiple_runs/runs/1vwwtla1</a><br/>\n",
       "                "
      ]
     },
     "metadata": {}
    }
   ],
   "metadata": {}
  },
  {
   "cell_type": "code",
   "execution_count": null,
   "source": [],
   "outputs": [],
   "metadata": {}
  }
 ],
 "metadata": {
  "kernelspec": {
   "name": "python3",
   "display_name": "Python 3.8.10 64-bit ('devops': conda)"
  },
  "language_info": {
   "codemirror_mode": {
    "name": "ipython",
    "version": 3
   },
   "file_extension": ".py",
   "mimetype": "text/x-python",
   "name": "python",
   "nbconvert_exporter": "python",
   "pygments_lexer": "ipython3",
   "version": "3.8.10"
  },
  "interpreter": {
   "hash": "d9cb8a1dc48d593cc944df4240ace18e5cc045fd27dfe5e2de25a3ca3a9fd844"
  }
 },
 "nbformat": 4,
 "nbformat_minor": 5
}